{
 "cells": [
  {
   "cell_type": "code",
   "execution_count": 9,
   "metadata": {},
   "outputs": [],
   "source": [
    "import requests\n",
    "import csv\n",
    "import os\n",
    "\n",
    "import pandas as pd\n",
    "tickerName = 'BBAS3'\n",
    "ticker = (f'{tickerName}.SAO')\n",
    "path = (f'data/{ticker}.csv')\n",
    "\n",
    "key = 'XLSA5LZF5KUUXJX3'\n",
    "\n",
    "if not os.path.exists(path):\n",
    "    url = (f'https://www.alphavantage.co/query?apikey={key}&function=TIME_SERIES_DAILY_ADJUSTED&symbol={ticker}&datatype=csv&outputsize=full')\n",
    "\n",
    "    response = requests.get(url)\n",
    "\n",
    "    if response.status_code == 200:\n",
    "        content = response.content.decode()\n",
    "        \n",
    "        reader = csv.reader(content.splitlines(), delimiter=',')\n",
    "        \n",
    "        dataset = list(reader)\n",
    "        \n",
    "        with open(path, mode='w', newline='') as file:\n",
    "            writer = csv.writer(file)\n",
    "            writer.writerows(dataset)\n",
    "            \n",
    "        print(f\"New .csv downloaded for {ticker}: {response.status_code}\")\n",
    "    else:\n",
    "        print(f\"Request failed for {ticker}: {response.status_code}\")"
   ]
  }
 ],
 "metadata": {
  "kernelspec": {
   "display_name": "clustering-stocks-env",
   "language": "python",
   "name": "python3"
  },
  "language_info": {
   "name": "python",
   "version": "3.10.6"
  },
  "orig_nbformat": 4
 },
 "nbformat": 4,
 "nbformat_minor": 2
}
