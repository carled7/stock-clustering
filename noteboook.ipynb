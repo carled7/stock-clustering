{
 "cells": [
  {
   "attachments": {},
   "cell_type": "markdown",
   "metadata": {},
   "source": [
    "# Building data-set"
   ]
  },
  {
   "cell_type": "code",
   "execution_count": null,
   "metadata": {},
   "outputs": [],
   "source": [
    "import requests\n",
    "import csv\n",
    "import os\n",
    "\n",
    "import pandas as pd"
   ]
  },
  {
   "attachments": {},
   "cell_type": "markdown",
   "metadata": {
    "slideshow": {
     "slide_type": "skip"
    }
   },
   "source": [
    "#### Get raw data from API"
   ]
  },
  {
   "cell_type": "code",
   "execution_count": 30,
   "metadata": {},
   "outputs": [],
   "source": [
    "tickers_df = pd.read_csv('./TICKERS.csv')\n",
    "\n",
    "for index, row in tickers_df.iterrows():\n",
    "\n",
    "    ticker = (f'{row[\"ticker\"]}.SAO')\n",
    "    path = (f'data/{ticker}.csv')\n",
    "\n",
    "    key = 'XLSA5LZF5KUUXJX3'\n",
    "\n",
    "    if not os.path.exists(path):\n",
    "        url = (f'https://www.alphavantage.co/query?apikey={key}&function=TIME_SERIES_DAILY_ADJUSTED&symbol={ticker}&datatype=csv&outputsize=full')\n",
    "\n",
    "        response = requests.get(url)\n",
    "\n",
    "        if response.status_code == 200:\n",
    "            content = response.content.decode()\n",
    "            \n",
    "            reader = csv.reader(content.splitlines(), delimiter=',')\n",
    "            \n",
    "            dataset = list(reader)\n",
    "            \n",
    "            with open(path, mode='w', newline='') as file:\n",
    "                writer = csv.writer(file)\n",
    "                writer.writerows(dataset)\n",
    "                \n",
    "            print(f\"New .csv downloaded for {ticker}: {response.status_code}\")\n",
    "        else:\n",
    "            print(f\"Request failed for {ticker}: {response.status_code}\")"
   ]
  },
  {
   "attachments": {},
   "cell_type": "markdown",
   "metadata": {},
   "source": [
    "#### Assemble data-set"
   ]
  },
  {
   "cell_type": "code",
   "execution_count": 41,
   "metadata": {},
   "outputs": [],
   "source": [
    "def calc_ATR(df):\n",
    "    df['H-L'] = df['high'] - df['low']\n",
    "    df['H-PC'] = abs(df['high'] - df['close'].shift(1))\n",
    "    df['L-PC'] = abs(df['low'] - df['close'].shift(1))\n",
    "    df['TR'] = df[['H-L', 'H-PC', 'L-PC']].max(axis=1)\n",
    "\n",
    "    atr_period = len(df)\n",
    "    df['ATR'] = df['TR'].rolling(atr_period).mean()\n",
    "\n",
    "    return df['ATR'][len(df)-1]\n",
    "\n",
    "def calc_OBV(df):\n",
    "\n",
    "    df['OBV'] = 0\n",
    "    df.loc[df['close'] > df['close'].shift(1), 'OBV'] = df['volume']\n",
    "    df.loc[df['close'] < df['close'].shift(1), 'OBV'] = -df['volume']\n",
    "    df['OBV'] = df['OBV'].cumsum()\n",
    "\n",
    "    return df['OBV'].mean()\n",
    "\n",
    "\n",
    "with open(\"output.csv\", mode='w', newline='') as file:\n",
    "    \n",
    "    writer = csv.writer(file)\n",
    "    \n",
    "    # write header\n",
    "    writer.writerow(['ticker', 'av_close', 'av_volume', 'av_dividend_amount', 'ATR', 'OBV'])\n",
    "    \n",
    "    for index, row in tickers_df.iterrows():\n",
    "        \n",
    "        path = (f'data/{row[\"ticker\"]}.SAO.csv')\n",
    "        df = pd.read_csv(path)\n",
    "        \n",
    "        writer.writerow([\n",
    "                            row['ticker'], \n",
    "                            df['close'].mean(), \n",
    "                            df['volume'].mean(), \n",
    "                            df['dividend_amount'].mean(),\n",
    "                            calc_ATR(df),\n",
    "                            calc_OBV(df)\n",
    "                        ]) \n"
   ]
  },
  {
   "cell_type": "code",
   "execution_count": 43,
   "metadata": {},
   "outputs": [
    {
     "data": {
      "image/png": "[encoded data removed]",
      "text/plain": [
       "<Figure size 640x480 with 2 Axes>"
      ]
     },
     "metadata": {},
     "output_type": "display_data"
    }
   ],
   "source": [
    "import seaborn as sns\n",
    "import matplotlib.pyplot as plt\n",
    "\n",
    "df = pd.read_csv('output.csv')\n",
    "del df['ticker']\n",
    "\n",
    "sns.heatmap(df.corr(), cmap='coolwarm')\n",
    "plt.show()"
   ]
  }
 ],
 "metadata": {
  "kernelspec": {
   "display_name": "clustering-stocks-env",
   "language": "python",
   "name": "python3"
  },
  "language_info": {
   "codemirror_mode": {
    "name": "ipython",
    "version": 3
   },
   "file_extension": ".py",
   "mimetype": "text/x-python",
   "name": "python",
   "nbconvert_exporter": "python",
   "pygments_lexer": "ipython3",
   "version": "3.10.6"
  },
  "orig_nbformat": 4
 },
 "nbformat": 4,
 "nbformat_minor": 2
}
